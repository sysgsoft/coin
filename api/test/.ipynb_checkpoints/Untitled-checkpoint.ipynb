{
 "cells": [
  {
   "cell_type": "code",
   "execution_count": 133,
   "metadata": {},
   "outputs": [],
   "source": [
    "import json\n",
    "import pandas as pd"
   ]
  },
  {
   "cell_type": "code",
   "execution_count": 160,
   "metadata": {},
   "outputs": [],
   "source": [
    "data=json.load(open(\"test.json\",\"r\"))"
   ]
  },
  {
   "cell_type": "code",
   "execution_count": 163,
   "metadata": {},
   "outputs": [
    {
     "ename": "KeyError",
     "evalue": "'intentName'",
     "output_type": "error",
     "traceback": [
      "\u001b[0;31m---------------------------------------------------------------------------\u001b[0m",
      "\u001b[0;31mKeyError\u001b[0m                                  Traceback (most recent call last)",
      "\u001b[0;32m<ipython-input-163-03a9fa71c122>\u001b[0m in \u001b[0;36m<module>\u001b[0;34m()\u001b[0m\n\u001b[0;32m----> 1\u001b[0;31m \u001b[0mdata\u001b[0m\u001b[0;34m[\u001b[0m\u001b[0;34m\"result\"\u001b[0m\u001b[0;34m]\u001b[0m\u001b[0;34m[\u001b[0m\u001b[0;34m\"intentName\"\u001b[0m\u001b[0;34m]\u001b[0m\u001b[0;34m\u001b[0m\u001b[0m\n\u001b[0m",
      "\u001b[0;31mKeyError\u001b[0m: 'intentName'"
     ]
    }
   ],
   "source": [
    "data[\"result\"][\"intentName\"]"
   ]
  },
  {
   "cell_type": "code",
   "execution_count": 168,
   "metadata": {},
   "outputs": [
    {
     "data": {
      "text/plain": [
       "u'recurring fever'"
      ]
     },
     "execution_count": 168,
     "metadata": {},
     "output_type": "execute_result"
    }
   ],
   "source": [
    "data[\"result\"][\"metadata\"][\"intentName\"]"
   ]
  },
  {
   "cell_type": "code",
   "execution_count": null,
   "metadata": {},
   "outputs": [],
   "source": []
  },
  {
   "cell_type": "code",
   "execution_count": null,
   "metadata": {},
   "outputs": [],
   "source": []
  },
  {
   "cell_type": "code",
   "execution_count": 135,
   "metadata": {},
   "outputs": [],
   "source": [
    "parameters=[]"
   ]
  },
  {
   "cell_type": "code",
   "execution_count": 136,
   "metadata": {},
   "outputs": [],
   "source": [
    "tmp=data[\"result\"][\"parameters\"][\"symptoms\"]"
   ]
  },
  {
   "cell_type": "code",
   "execution_count": 137,
   "metadata": {},
   "outputs": [],
   "source": [
    "for item in tmp:\n",
    "  parameters.append(item)"
   ]
  },
  {
   "cell_type": "code",
   "execution_count": 138,
   "metadata": {},
   "outputs": [
    {
     "data": {
      "text/plain": [
       "[u'headache', u'cough', u'vomiting']"
      ]
     },
     "execution_count": 138,
     "metadata": {},
     "output_type": "execute_result"
    }
   ],
   "source": [
    "parameters"
   ]
  },
  {
   "cell_type": "code",
   "execution_count": 139,
   "metadata": {},
   "outputs": [],
   "source": [
    "input=pd.read_csv(\"data.csv\")"
   ]
  },
  {
   "cell_type": "code",
   "execution_count": 140,
   "metadata": {},
   "outputs": [],
   "source": [
    "disease=input.Disease.values\n",
    "symptom=[]\n",
    "tmp=[]"
   ]
  },
  {
   "cell_type": "code",
   "execution_count": 141,
   "metadata": {},
   "outputs": [],
   "source": [
    "symptoms=input.symptoms.values"
   ]
  },
  {
   "cell_type": "code",
   "execution_count": 142,
   "metadata": {},
   "outputs": [],
   "source": [
    "for i in range(len(input)):\n",
    "    tmp.append(symptoms[i].split(\",\"))"
   ]
  },
  {
   "cell_type": "code",
   "execution_count": 143,
   "metadata": {},
   "outputs": [],
   "source": [
    "disease_symptom = dict(zip(disease, tmp))"
   ]
  },
  {
   "cell_type": "code",
   "execution_count": 144,
   "metadata": {},
   "outputs": [],
   "source": [
    "type_=input.type.values"
   ]
  },
  {
   "cell_type": "code",
   "execution_count": 145,
   "metadata": {},
   "outputs": [],
   "source": [
    "tmp=input.text.values"
   ]
  },
  {
   "cell_type": "code",
   "execution_count": 146,
   "metadata": {},
   "outputs": [],
   "source": [
    "disease_text = dict(zip(disease, tmp))"
   ]
  },
  {
   "cell_type": "code",
   "execution_count": null,
   "metadata": {},
   "outputs": [],
   "source": []
  },
  {
   "cell_type": "code",
   "execution_count": 147,
   "metadata": {},
   "outputs": [],
   "source": [
    "category=\"recurring fever\""
   ]
  },
  {
   "cell_type": "code",
   "execution_count": 148,
   "metadata": {},
   "outputs": [],
   "source": [
    "chest=0\n",
    "difficulty=0\n",
    "abdominal=0\n",
    "skin=0\n",
    "eyes=0\n",
    "yellow=0"
   ]
  },
  {
   "cell_type": "code",
   "execution_count": 149,
   "metadata": {},
   "outputs": [],
   "source": [
    "if category==\"continuous fever\":\n",
    "    if \"chest pain\" in parameters or \"difficulty in breathing\" in parameters:\n",
    "        print disease_text[\"Pneumonia\"]\n",
    "\n",
    "    if \"abdominal pain\" in parameters or \"difficulty in breathing\" in parameters:\n",
    "        print disease_text[\"Typhoid\"]\n",
    "        \n",
    "    \n",
    "disease=input.Disease.values\n",
    "symptom=[]\n",
    "tmp=[]\n"
   ]
  },
  {
   "cell_type": "code",
   "execution_count": 156,
   "metadata": {},
   "outputs": [],
   "source": [
    "flag_={\"chest pain\":0,\"difficulty in breathing\":0, \"pain behind the eyes\":0, \"yellow tinge on skins and eyes\":0,\"skin rash\":0,\"abdominal pain\":0}"
   ]
  },
  {
   "cell_type": "code",
   "execution_count": 158,
   "metadata": {},
   "outputs": [
    {
     "data": {
      "text/plain": [
       "dict"
      ]
     },
     "execution_count": 158,
     "metadata": {},
     "output_type": "execute_result"
    }
   ],
   "source": [
    "type(flag_)"
   ]
  },
  {
   "cell_type": "code",
   "execution_count": 155,
   "metadata": {},
   "outputs": [
    {
     "data": {
      "text/plain": [
       "array(['fever,chills and rigors,difficulty in breathing,cough,chest pain,vomiting,fatigue',\n",
       "       'fever,headache,vomiting,loss of apetite,abdominal pain,diarrhoea,body pain,fatigue',\n",
       "       'fever,chills,nausea,vomiting,diarrhoea,fatigue',\n",
       "       'fever,headache,pain behind the eyes,fatigue,skin rash,bruising',\n",
       "       'fever,body pain,dizziness,loss of appetite,chills and rigours,vomiting,nausea,yellow tinge on skins and eyes'],\n",
       "      dtype=object)"
      ]
     },
     "execution_count": 155,
     "metadata": {},
     "output_type": "execute_result"
    }
   ],
   "source": [
    "symptoms"
   ]
  },
  {
   "cell_type": "code",
   "execution_count": 169,
   "metadata": {},
   "outputs": [],
   "source": [
    "flag_={\"chest pain\":0,\"difficulty in breathing\":0, \"pain behind the eyes\":0, \"yellow tinge on skins and eyes\":0,\"skin rash\":0,\"abdominal pain\":0,\"mosquito_bite\":0}"
   ]
  },
  {
   "cell_type": "code",
   "execution_count": 172,
   "metadata": {},
   "outputs": [],
   "source": [
    "flag_[\"mosquito_bite\"]=1"
   ]
  },
  {
   "cell_type": "code",
   "execution_count": 173,
   "metadata": {},
   "outputs": [
    {
     "data": {
      "text/plain": [
       "{'abdominal pain': 0,\n",
       " 'chest pain': 0,\n",
       " 'difficulty in breathing': 0,\n",
       " 'mosquito_bite': 1,\n",
       " 'pain behind the eyes': 0,\n",
       " 'skin rash': 0,\n",
       " 'yellow tinge on skins and eyes': 0}"
      ]
     },
     "execution_count": 173,
     "metadata": {},
     "output_type": "execute_result"
    }
   ],
   "source": [
    "flag_"
   ]
  },
  {
   "cell_type": "code",
   "execution_count": 174,
   "metadata": {},
   "outputs": [],
   "source": [
    "user_input=\"yes\""
   ]
  },
  {
   "cell_type": "code",
   "execution_count": 176,
   "metadata": {},
   "outputs": [
    {
     "name": "stdout",
     "output_type": "stream",
     "text": [
      "hello\n"
     ]
    }
   ],
   "source": [
    "if user_input==\"yes\":\n",
    "    print \"hello\""
   ]
  },
  {
   "cell_type": "code",
   "execution_count": 178,
   "metadata": {},
   "outputs": [],
   "source": [
    "flag=0"
   ]
  },
  {
   "cell_type": "code",
   "execution_count": 179,
   "metadata": {},
   "outputs": [
    {
     "name": "stdout",
     "output_type": "stream",
     "text": [
      "hello\n"
     ]
    }
   ],
   "source": [
    "if flag==0:\n",
    "    print \"hello\"\n",
    "    flag=1\n",
    "elif flag==1:\n",
    "    print \"hello\""
   ]
  },
  {
   "cell_type": "code",
   "execution_count": null,
   "metadata": {},
   "outputs": [],
   "source": []
  },
  {
   "cell_type": "code",
   "execution_count": null,
   "metadata": {},
   "outputs": [],
   "source": [
    "def no_api(question,parameters,category):\n",
    "    global out_dict\n",
    "    out_dict = {}\n",
    "    out_dict['messageText'] = []\n",
    "    out_dict['messageSource'] = 'messageFromBot'\n",
    "    user_input = question['messageText']\n",
    "\n",
    "    #print user_input\n",
    "\n",
    "\n",
    "    if category==\"recurring fever\":\n",
    "        if flag_[\"mosquito_bite\"]==0: \n",
    "            out_dict['messageText'].append(\"Have you bitten by mosquitos recently??\")\n",
    "            out_dict[\"plugin\"] = {'name': 'autofill', 'type': 'manufacturers', 'data': mosquito}\n",
    "            flag_[\"mosquito_bite\"]=1\n",
    "\n",
    "        if flag_[\"mosquito_bite\"]==1:\n",
    "           if user_input==\"yes\":\n",
    "               flag_[\"mosquito_bite\"]=2\n",
    "               if \"yellow tinge on skins and eyes\" in parameters:\n",
    "                   out_dict['messageText'].append(disease_text[\"Yellow Fever\"])\n",
    "                   global flag\n",
    "                   flag=0\n",
    "               else:\n",
    "                   out_dict['messageText'].append(\"Does the patient has yellow tinge on skin and eyes?\")\n",
    "                   out_dict[\"plugin\"] = {'name': 'autofill', 'type': 'manufacturers', 'data': yes_no}\n",
    "                   flag_[\"yellow tinge on skins and eyes\"]=1  \n",
    "    return out_dict\n"
   ]
  },
  {
   "cell_type": "code",
   "execution_count": null,
   "metadata": {},
   "outputs": [],
   "source": []
  },
  {
   "cell_type": "code",
   "execution_count": 180,
   "metadata": {},
   "outputs": [
    {
     "data": {
      "text/plain": [
       "{'abdominal pain': 0,\n",
       " 'chest pain': 0,\n",
       " 'difficulty in breathing': 0,\n",
       " 'mosquito_bite': 1,\n",
       " 'pain behind the eyes': 0,\n",
       " 'skin rash': 0,\n",
       " 'yellow tinge on skins and eyes': 0}"
      ]
     },
     "execution_count": 180,
     "metadata": {},
     "output_type": "execute_result"
    }
   ],
   "source": [
    "flag_"
   ]
  },
  {
   "cell_type": "code",
   "execution_count": null,
   "metadata": {},
   "outputs": [],
   "source": []
  },
  {
   "cell_type": "code",
   "execution_count": null,
   "metadata": {},
   "outputs": [],
   "source": []
  },
  {
   "cell_type": "code",
   "execution_count": null,
   "metadata": {},
   "outputs": [],
   "source": []
  },
  {
   "cell_type": "code",
   "execution_count": null,
   "metadata": {},
   "outputs": [],
   "source": []
  },
  {
   "cell_type": "code",
   "execution_count": null,
   "metadata": {},
   "outputs": [],
   "source": []
  }
 ],
 "metadata": {
  "kernelspec": {
   "display_name": "Python 2",
   "language": "python",
   "name": "python2"
  },
  "language_info": {
   "codemirror_mode": {
    "name": "ipython",
    "version": 2
   },
   "file_extension": ".py",
   "mimetype": "text/x-python",
   "name": "python",
   "nbconvert_exporter": "python",
   "pygments_lexer": "ipython2",
   "version": "2.7.14"
  }
 },
 "nbformat": 4,
 "nbformat_minor": 2
}
