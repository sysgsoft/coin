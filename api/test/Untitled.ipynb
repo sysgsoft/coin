{
 "cells": [
  {
   "cell_type": "code",
   "execution_count": 16,
   "metadata": {},
   "outputs": [],
   "source": [
    "import json\n",
    "import pandas as pd"
   ]
  },
  {
   "cell_type": "code",
   "execution_count": 22,
   "metadata": {},
   "outputs": [],
   "source": [
    "text=\"iam % arundas\""
   ]
  },
  {
   "cell_type": "code",
   "execution_count": 25,
   "metadata": {},
   "outputs": [
    {
     "data": {
      "text/plain": [
       "['iam ', ' arundas']"
      ]
     },
     "execution_count": 25,
     "metadata": {},
     "output_type": "execute_result"
    }
   ],
   "source": [
    "text.split(\"%\")"
   ]
  },
  {
   "cell_type": "code",
   "execution_count": 26,
   "metadata": {},
   "outputs": [],
   "source": [
    "abc=['blog and portfolio ', 'If you are interested, I can help you in getting our contact details.']"
   ]
  },
  {
   "cell_type": "code",
   "execution_count": 27,
   "metadata": {},
   "outputs": [
    {
     "data": {
      "text/plain": [
       "'blog and portfolio '"
      ]
     },
     "execution_count": 27,
     "metadata": {},
     "output_type": "execute_result"
    }
   ],
   "source": [
    "abc[0]"
   ]
  },
  {
   "cell_type": "code",
   "execution_count": 15,
   "metadata": {},
   "outputs": [
    {
     "data": {
      "text/plain": [
       "u'about'"
      ]
     },
     "execution_count": 15,
     "metadata": {},
     "output_type": "execute_result"
    }
   ],
   "source": [
    "data[\"queryResult\"][\"intent\"][\"displayName\"]"
   ]
  },
  {
   "cell_type": "code",
   "execution_count": 11,
   "metadata": {},
   "outputs": [],
   "source": [
    "flag=1"
   ]
  },
  {
   "cell_type": "code",
   "execution_count": 10,
   "metadata": {},
   "outputs": [],
   "source": [
    "category=\"recurring fever\""
   ]
  },
  {
   "cell_type": "code",
   "execution_count": 6,
   "metadata": {},
   "outputs": [],
   "source": [
    "parameters=[]"
   ]
  },
  {
   "cell_type": "code",
   "execution_count": 7,
   "metadata": {},
   "outputs": [],
   "source": [
    "tmp=data[\"result\"][\"parameters\"][\"symptoms\"]"
   ]
  },
  {
   "cell_type": "code",
   "execution_count": 8,
   "metadata": {},
   "outputs": [],
   "source": [
    "for item in tmp:\n",
    "  parameters.append(item)"
   ]
  },
  {
   "cell_type": "code",
   "execution_count": 9,
   "metadata": {},
   "outputs": [
    {
     "data": {
      "text/plain": [
       "[u'headache', u'cough', u'vomiting']"
      ]
     },
     "execution_count": 9,
     "metadata": {},
     "output_type": "execute_result"
    }
   ],
   "source": [
    "parameters"
   ]
  },
  {
   "cell_type": "code",
   "execution_count": 139,
   "metadata": {},
   "outputs": [],
   "source": [
    "input=pd.read_csv(\"data.csv\")"
   ]
  },
  {
   "cell_type": "code",
   "execution_count": 140,
   "metadata": {},
   "outputs": [],
   "source": [
    "disease=input.Disease.values\n",
    "symptom=[]\n",
    "tmp=[]"
   ]
  },
  {
   "cell_type": "code",
   "execution_count": 141,
   "metadata": {},
   "outputs": [],
   "source": [
    "symptoms=input.symptoms.values"
   ]
  },
  {
   "cell_type": "code",
   "execution_count": 142,
   "metadata": {},
   "outputs": [],
   "source": [
    "for i in range(len(input)):\n",
    "    tmp.append(symptoms[i].split(\",\"))"
   ]
  },
  {
   "cell_type": "code",
   "execution_count": 143,
   "metadata": {},
   "outputs": [],
   "source": [
    "disease_symptom = dict(zip(disease, tmp))"
   ]
  },
  {
   "cell_type": "code",
   "execution_count": 144,
   "metadata": {},
   "outputs": [],
   "source": [
    "type_=input.type.values"
   ]
  },
  {
   "cell_type": "code",
   "execution_count": 145,
   "metadata": {},
   "outputs": [],
   "source": [
    "tmp=input.text.values"
   ]
  },
  {
   "cell_type": "code",
   "execution_count": 146,
   "metadata": {},
   "outputs": [],
   "source": [
    "disease_text = dict(zip(disease, tmp))"
   ]
  },
  {
   "cell_type": "code",
   "execution_count": null,
   "metadata": {},
   "outputs": [],
   "source": []
  },
  {
   "cell_type": "code",
   "execution_count": 147,
   "metadata": {},
   "outputs": [],
   "source": [
    "category=\"recurring fever\""
   ]
  },
  {
   "cell_type": "code",
   "execution_count": 148,
   "metadata": {},
   "outputs": [],
   "source": [
    "chest=0\n",
    "difficulty=0\n",
    "abdominal=0\n",
    "skin=0\n",
    "eyes=0\n",
    "yellow=0"
   ]
  },
  {
   "cell_type": "code",
   "execution_count": 149,
   "metadata": {},
   "outputs": [],
   "source": [
    "if category==\"continuous fever\":\n",
    "    if \"chest pain\" in parameters or \"difficulty in breathing\" in parameters:\n",
    "        print disease_text[\"Pneumonia\"]\n",
    "\n",
    "    if \"abdominal pain\" in parameters or \"difficulty in breathing\" in parameters:\n",
    "        print disease_text[\"Typhoid\"]\n",
    "        \n",
    "    \n",
    "disease=input.Disease.values\n",
    "symptom=[]\n",
    "tmp=[]\n"
   ]
  },
  {
   "cell_type": "code",
   "execution_count": 156,
   "metadata": {},
   "outputs": [],
   "source": [
    "flag_={\"chest pain\":0,\"difficulty in breathing\":0, \"pain behind the eyes\":0, \"yellow tinge on skins and eyes\":0,\"skin rash\":0,\"abdominal pain\":0}"
   ]
  },
  {
   "cell_type": "code",
   "execution_count": 158,
   "metadata": {},
   "outputs": [
    {
     "data": {
      "text/plain": [
       "dict"
      ]
     },
     "execution_count": 158,
     "metadata": {},
     "output_type": "execute_result"
    }
   ],
   "source": [
    "type(flag_)"
   ]
  },
  {
   "cell_type": "code",
   "execution_count": 155,
   "metadata": {},
   "outputs": [
    {
     "data": {
      "text/plain": [
       "array(['fever,chills and rigors,difficulty in breathing,cough,chest pain,vomiting,fatigue',\n",
       "       'fever,headache,vomiting,loss of apetite,abdominal pain,diarrhoea,body pain,fatigue',\n",
       "       'fever,chills,nausea,vomiting,diarrhoea,fatigue',\n",
       "       'fever,headache,pain behind the eyes,fatigue,skin rash,bruising',\n",
       "       'fever,body pain,dizziness,loss of appetite,chills and rigours,vomiting,nausea,yellow tinge on skins and eyes'],\n",
       "      dtype=object)"
      ]
     },
     "execution_count": 155,
     "metadata": {},
     "output_type": "execute_result"
    }
   ],
   "source": [
    "symptoms"
   ]
  },
  {
   "cell_type": "code",
   "execution_count": 169,
   "metadata": {},
   "outputs": [],
   "source": [
    "flag_={\"chest pain\":0,\"difficulty in breathing\":0, \"pain behind the eyes\":0, \"yellow tinge on skins and eyes\":0,\"skin rash\":0,\"abdominal pain\":0,\"mosquito_bite\":0}"
   ]
  },
  {
   "cell_type": "code",
   "execution_count": 172,
   "metadata": {},
   "outputs": [],
   "source": [
    "flag_[\"mosquito_bite\"]=1"
   ]
  },
  {
   "cell_type": "code",
   "execution_count": 173,
   "metadata": {},
   "outputs": [
    {
     "data": {
      "text/plain": [
       "{'abdominal pain': 0,\n",
       " 'chest pain': 0,\n",
       " 'difficulty in breathing': 0,\n",
       " 'mosquito_bite': 1,\n",
       " 'pain behind the eyes': 0,\n",
       " 'skin rash': 0,\n",
       " 'yellow tinge on skins and eyes': 0}"
      ]
     },
     "execution_count": 173,
     "metadata": {},
     "output_type": "execute_result"
    }
   ],
   "source": [
    "flag_"
   ]
  },
  {
   "cell_type": "code",
   "execution_count": 174,
   "metadata": {},
   "outputs": [],
   "source": [
    "user_input=\"yes\""
   ]
  },
  {
   "cell_type": "code",
   "execution_count": 176,
   "metadata": {},
   "outputs": [
    {
     "name": "stdout",
     "output_type": "stream",
     "text": [
      "hello\n"
     ]
    }
   ],
   "source": [
    "if user_input==\"yes\":\n",
    "    print \"hello\""
   ]
  },
  {
   "cell_type": "code",
   "execution_count": 178,
   "metadata": {},
   "outputs": [],
   "source": [
    "flag=0"
   ]
  },
  {
   "cell_type": "code",
   "execution_count": 179,
   "metadata": {},
   "outputs": [
    {
     "name": "stdout",
     "output_type": "stream",
     "text": [
      "hello\n"
     ]
    }
   ],
   "source": [
    "if flag==0:\n",
    "    print \"hello\"\n",
    "    flag=1\n",
    "elif flag==1:\n",
    "    print \"hello\""
   ]
  },
  {
   "cell_type": "code",
   "execution_count": null,
   "metadata": {},
   "outputs": [],
   "source": []
  },
  {
   "cell_type": "code",
   "execution_count": null,
   "metadata": {},
   "outputs": [],
   "source": [
    "def no_api(question,parameters,category):\n",
    "    global out_dict\n",
    "    out_dict = {}\n",
    "    out_dict['messageText'] = []\n",
    "    out_dict['messageSource'] = 'messageFromBot'\n",
    "    user_input = question['messageText']\n",
    "\n",
    "    #print user_input\n",
    "\n",
    "\n",
    "    if category==\"recurring fever\":\n",
    "        if flag_[\"mosquito_bite\"]==0: \n",
    "            out_dict['messageText'].append(\"Have you bitten by mosquitos recently??\")\n",
    "            out_dict[\"plugin\"] = {'name': 'autofill', 'type': 'manufacturers', 'data': mosquito}\n",
    "            flag_[\"mosquito_bite\"]=1\n",
    "\n",
    "        if flag_[\"mosquito_bite\"]==1:\n",
    "           if user_input==\"yes\" or user_input==\"not sure\":\n",
    "               flag_[\"mosquito_bite\"]=2\n",
    "               if \"yellow tinge on skins and eyes\" in parameters:\n",
    "                   out_dict['messageText'].append(disease_text[\"Yellow Fever\"])\n",
    "                   global flag\n",
    "                   flag=0\n",
    "               else:\n",
    "                   out_dict['messageText'].append(\"Does the patient has yellow tinge on skin and eyes?\")\n",
    "                   out_dict[\"plugin\"] = {'name': 'autofill', 'type': 'manufacturers', 'data': yes_no}\n",
    "                   flag_[\"yellow tinge on skins and eyes\"]=1  \n",
    "                \n",
    "        if flag_[\"yellow tinge on skins and eyes\"]==1:\n",
    "            if user_input==\"yes\":\n",
    "                flag_[\"yellow tinge on skins and eyes\"]=2\n",
    "                out_dict['messageText'].append(disease_text[\"Yellow Fever\"])\n",
    "                global flag\n",
    "                flag=0\n",
    "                \n",
    "            elif user_input==\"no\":\n",
    "                flag_[\"yellow tinge on skins and eyes\"]=2\n",
    "                out_dict['messageText'].append(disease_text[\"Malaria\"])\n",
    "                global flag\n",
    "                flag=0\n",
    "                \n",
    "    elif category==\"continuous fever\":\n",
    "        \n",
    "            if \"difficulty in breathing\" in parameters or \"chest pain\" in parameters:\n",
    "                out_dict['messageText'].append(disease_text[\"Pneumonia\"])\n",
    "                global flag\n",
    "                flag=0\n",
    "                      \n",
    "            elif \"pain behind the eyes\" in parameters or \"skin rash\" in parameters:\n",
    "                out_dict['messageText'].append(disease_text[\"Dengue Fever\"])\n",
    "                global flag\n",
    "                flag=0\n",
    "                \n",
    "            elif \"abdominal pain\" in parameters:\n",
    "                out_dict['messageText'].append(disease_text[\"Typhoid\"])\n",
    "                global flag\n",
    "                flag=0\n",
    "            \n",
    "\n",
    "            \n",
    "            elif flag_[\"abdominal pain\"]==1:\n",
    "               if user_input==\"yes\":\n",
    "                   flag_[\"abdominal pain\"]=2\n",
    "                   out_dict['messageText'].append(disease_text[\"Typhoid\"])\n",
    "                   global flag\n",
    "                   flag=0\n",
    "               else:\n",
    "                   out_dict['messageText'].append(\"Does the patient has symptoms like difficulty in breathing and chest pain?\")\n",
    "                   out_dict[\"plugin\"] = {'name': 'autofill', 'type': 'manufacturers', 'data': yes_no}\n",
    "                   flag_[\"chest pain\"]=1\n",
    "                   flag_[\"abdominal pain\"]=2\n",
    "            \n",
    "            elif flag_[\"chest pain\"]==1:\n",
    "               if user_input==\"yes\":\n",
    "                   flag_[\"chest pain\"]=2\n",
    "                   out_dict['messageText'].append(disease_text[\"Pneumonia\"])\n",
    "                   global flag\n",
    "                   flag=0\n",
    "               else:\n",
    "                   out_dict['messageText'].append(\"Does the patient has symptoms like skin rash and pain behind eyes?\")\n",
    "                   out_dict[\"plugin\"] = {'name': 'autofill', 'type': 'manufacturers', 'data': yes_no}\n",
    "                   flag_[\"skin rash\"]=1\n",
    "                   flag_[\"chest pain\"]=2\n",
    "                \n",
    "            elif flag_[\"skin rash\"]==1:\n",
    "               if user_input==\"yes\":\n",
    "                   flag_[\"skin rash\"]=2\n",
    "                   out_dict['messageText'].append(disease_text[\"Dengue Fever\"])\n",
    "                   global flag\n",
    "                   flag=0\n",
    "               else:\n",
    "                   out_dict['messageText'].append(\"Sorry, I am in my learning phase. Right now, I am not intelligent enough to predict what your disease is.\")\n",
    "                   flag_[\"skin rash\"]=2\n",
    "    \n",
    "\n",
    "            else:\n",
    "                out_dict['messageText'].append(\"Does the patient has symptoms like abdominal pain and diarrhoea?\")\n",
    "                out_dict[\"plugin\"] = {'name': 'autofill', 'type': 'manufacturers', 'data': yes_no}\n",
    "                flag_[\"abdominal pain\"]=1 \n",
    "\n",
    "                               \n",
    "    return out_dict"
   ]
  },
  {
   "cell_type": "code",
   "execution_count": 12,
   "metadata": {},
   "outputs": [],
   "source": [
    "def clear_flag():\n",
    "        global flag\n",
    "        flag=0\n",
    "        global flag_\n",
    "        flag_={\"chest pain\":0,\"difficulty in breathing\":0, \"pain behind the eyes\":0, \"yellow tinge on skins and eyes\":0,\"skin rash\":0,\"abdominal pain\":0,\"mosquito_bite\":0}\n",
    "        global parameters\n",
    "        parameters=[]\n",
    "        global category\n",
    "        category=\"\""
   ]
  },
  {
   "cell_type": "code",
   "execution_count": 13,
   "metadata": {},
   "outputs": [],
   "source": [
    "clear_flag()"
   ]
  },
  {
   "cell_type": "code",
   "execution_count": 14,
   "metadata": {},
   "outputs": [
    {
     "data": {
      "text/plain": [
       "0"
      ]
     },
     "execution_count": 14,
     "metadata": {},
     "output_type": "execute_result"
    }
   ],
   "source": [
    "flag"
   ]
  },
  {
   "cell_type": "code",
   "execution_count": 15,
   "metadata": {},
   "outputs": [
    {
     "data": {
      "text/plain": [
       "[]"
      ]
     },
     "execution_count": 15,
     "metadata": {},
     "output_type": "execute_result"
    }
   ],
   "source": [
    "parameters"
   ]
  },
  {
   "cell_type": "code",
   "execution_count": 12,
   "metadata": {},
   "outputs": [],
   "source": [
    "import json\n",
    "data1=json.load(open(\"test1.json\",\"r\"))"
   ]
  },
  {
   "cell_type": "code",
   "execution_count": 13,
   "metadata": {},
   "outputs": [
    {
     "data": {
      "text/plain": [
       "{u'id': u'f88e23b3-5507-42ff-9bcf-7cd8454e77dd',\n",
       " u'lang': u'en',\n",
       " u'result': {u'action': u'diagnosis.diagnosis-yes',\n",
       "  u'actionIncomplete': False,\n",
       "  u'contexts': [{u'lifespan': 1,\n",
       "    u'name': u'ask-age-type-followup',\n",
       "    u'parameters': {u'age': {u'amount': 26, u'unit': u'year'},\n",
       "     u'age.original': u'26',\n",
       "     u'any': u'arun',\n",
       "     u'any.original': u'arun',\n",
       "     u'gender': u'male',\n",
       "     u'gender.original': u'male'}}],\n",
       "  u'fulfillment': {u'messages': [{u'speech': u'What kind of fever patient is suffering from ??',\n",
       "     u'type': 0}],\n",
       "   u'speech': u'What kind of fever patient is suffering from ??'},\n",
       "  u'metadata': {u'intentId': u'25d73f46-bfec-4202-8573-9c998053b37b',\n",
       "   u'intentName': u'ask-age-type',\n",
       "   u'webhookForSlotFillingUsed': u'false',\n",
       "   u'webhookUsed': u'false'},\n",
       "  u'parameters': {u'age': {u'amount': 26, u'unit': u'year'},\n",
       "   u'any': u'arun',\n",
       "   u'gender': u'male'},\n",
       "  u'resolvedQuery': u'26',\n",
       "  u'score': 1,\n",
       "  u'source': u'agent'},\n",
       " u'sessionId': u'eda79ae9-11b3-4585-8314-535906548cdd',\n",
       " u'status': {u'code': 200,\n",
       "  u'errorType': u'success',\n",
       "  u'webhookTimedOut': False},\n",
       " u'timestamp': u'2018-04-24T09:32:51.445Z'}"
      ]
     },
     "execution_count": 13,
     "metadata": {},
     "output_type": "execute_result"
    }
   ],
   "source": [
    "data1"
   ]
  },
  {
   "cell_type": "code",
   "execution_count": 16,
   "metadata": {},
   "outputs": [
    {
     "data": {
      "text/plain": [
       "{u'age': {u'amount': 26, u'unit': u'year'},\n",
       " u'any': u'arun',\n",
       " u'gender': u'male'}"
      ]
     },
     "execution_count": 16,
     "metadata": {},
     "output_type": "execute_result"
    }
   ],
   "source": [
    "data1[\"result\"][\"parameters\"]"
   ]
  },
  {
   "cell_type": "code",
   "execution_count": 11,
   "metadata": {},
   "outputs": [
    {
     "data": {
      "text/plain": [
       "u'appointment'"
      ]
     },
     "execution_count": 11,
     "metadata": {},
     "output_type": "execute_result"
    }
   ],
   "source": [
    "data1[\"result\"][\"action\"]"
   ]
  },
  {
   "cell_type": "code",
   "execution_count": 17,
   "metadata": {},
   "outputs": [],
   "source": [
    "name=[]"
   ]
  },
  {
   "cell_type": "code",
   "execution_count": 18,
   "metadata": {},
   "outputs": [],
   "source": [
    "name.append(data1[\"result\"][\"parameters\"][\"any\"])"
   ]
  },
  {
   "cell_type": "code",
   "execution_count": 19,
   "metadata": {},
   "outputs": [],
   "source": [
    "name.append(data1[\"result\"][\"parameters\"][\"age\"])"
   ]
  },
  {
   "cell_type": "code",
   "execution_count": 20,
   "metadata": {},
   "outputs": [],
   "source": [
    "name.append(data1[\"result\"][\"parameters\"][\"gender\"])"
   ]
  },
  {
   "cell_type": "code",
   "execution_count": 21,
   "metadata": {},
   "outputs": [
    {
     "data": {
      "text/plain": [
       "[u'arun', {u'amount': 26, u'unit': u'year'}, u'male']"
      ]
     },
     "execution_count": 21,
     "metadata": {},
     "output_type": "execute_result"
    }
   ],
   "source": [
    "name"
   ]
  },
  {
   "cell_type": "code",
   "execution_count": 1,
   "metadata": {},
   "outputs": [],
   "source": [
    "name=['arun', {'amount': 26, 'unit': 'year'}, 'male']"
   ]
  },
  {
   "cell_type": "code",
   "execution_count": 5,
   "metadata": {},
   "outputs": [
    {
     "data": {
      "text/plain": [
       "{'amount': 26, 'unit': 'year'}"
      ]
     },
     "execution_count": 5,
     "metadata": {},
     "output_type": "execute_result"
    }
   ],
   "source": [
    "name[1]"
   ]
  },
  {
   "cell_type": "code",
   "execution_count": 3,
   "metadata": {},
   "outputs": [
    {
     "data": {
      "text/plain": [
       "26"
      ]
     },
     "execution_count": 3,
     "metadata": {},
     "output_type": "execute_result"
    }
   ],
   "source": [
    "age"
   ]
  },
  {
   "cell_type": "code",
   "execution_count": 1,
   "metadata": {},
   "outputs": [],
   "source": [
    "import datetime"
   ]
  },
  {
   "cell_type": "code",
   "execution_count": 2,
   "metadata": {},
   "outputs": [],
   "source": [
    "now = datetime.datetime.now()"
   ]
  },
  {
   "cell_type": "code",
   "execution_count": 4,
   "metadata": {},
   "outputs": [],
   "source": [
    "date= now.strftime(\"%Y-%m-%d %H:%M\")"
   ]
  },
  {
   "cell_type": "code",
   "execution_count": 5,
   "metadata": {},
   "outputs": [
    {
     "name": "stdout",
     "output_type": "stream",
     "text": [
      "arun2018-04-27 16:37\n"
     ]
    }
   ],
   "source": [
    "print \"arun\"+date"
   ]
  },
  {
   "cell_type": "code",
   "execution_count": null,
   "metadata": {},
   "outputs": [],
   "source": []
  }
 ],
 "metadata": {
  "kernelspec": {
   "display_name": "Python 2",
   "language": "python",
   "name": "python2"
  },
  "language_info": {
   "codemirror_mode": {
    "name": "ipython",
    "version": 2
   },
   "file_extension": ".py",
   "mimetype": "text/x-python",
   "name": "python",
   "nbconvert_exporter": "python",
   "pygments_lexer": "ipython2",
   "version": "2.7.14"
  }
 },
 "nbformat": 4,
 "nbformat_minor": 2
}
