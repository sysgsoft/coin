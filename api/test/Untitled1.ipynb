{
 "cells": [
  {
   "cell_type": "code",
   "execution_count": 2,
   "metadata": {},
   "outputs": [],
   "source": [
    "import pandas as pd\n",
    "import json"
   ]
  },
  {
   "cell_type": "code",
   "execution_count": 4,
   "metadata": {},
   "outputs": [],
   "source": [
    "df = pd.read_csv('../data/data.csv')"
   ]
  },
  {
   "cell_type": "code",
   "execution_count": 10,
   "metadata": {},
   "outputs": [],
   "source": [
    "df=df[df['location'] == \"Dubai\"][df['bedrooms'] == 2]"
   ]
  },
  {
   "cell_type": "code",
   "execution_count": 11,
   "metadata": {},
   "outputs": [
    {
     "data": {
      "text/html": [
       "<div>\n",
       "<style scoped>\n",
       "    .dataframe tbody tr th:only-of-type {\n",
       "        vertical-align: middle;\n",
       "    }\n",
       "\n",
       "    .dataframe tbody tr th {\n",
       "        vertical-align: top;\n",
       "    }\n",
       "\n",
       "    .dataframe thead th {\n",
       "        text-align: right;\n",
       "    }\n",
       "</style>\n",
       "<table border=\"1\" class=\"dataframe\">\n",
       "  <thead>\n",
       "    <tr style=\"text-align: right;\">\n",
       "      <th></th>\n",
       "      <th>location</th>\n",
       "      <th>bedrooms</th>\n",
       "      <th>title</th>\n",
       "      <th>price</th>\n",
       "      <th>image</th>\n",
       "      <th>link</th>\n",
       "    </tr>\n",
       "  </thead>\n",
       "  <tbody>\n",
       "    <tr>\n",
       "      <th>0</th>\n",
       "      <td>Dubai</td>\n",
       "      <td>2</td>\n",
       "      <td>Springs 14 | 2 Bed | Type 4M | Internal View</td>\n",
       "      <td>1,490,000 AED</td>\n",
       "      <td>https://www.propertyfinder.ae/property/dac2c9a...</td>\n",
       "      <td>https://www.propertyfinder.ae/en/buy/villa-for...</td>\n",
       "    </tr>\n",
       "    <tr>\n",
       "      <th>1</th>\n",
       "      <td>Dubai</td>\n",
       "      <td>2</td>\n",
       "      <td>2 Bedroom Villa with Generous Plot – VOT</td>\n",
       "      <td>1,665,000 AED</td>\n",
       "      <td>https://www.propertyfinder.ae/property/f2fc8bb...</td>\n",
       "      <td>https://www.propertyfinder.ae/en/buy/villa-for...</td>\n",
       "    </tr>\n",
       "    <tr>\n",
       "      <th>2</th>\n",
       "      <td>Dubai</td>\n",
       "      <td>2</td>\n",
       "      <td>New | Large Plot | V.O.T. |Best District</td>\n",
       "      <td>2,500,000 AED</td>\n",
       "      <td>https://www.propertyfinder.ae/property/2d5a219...</td>\n",
       "      <td>https://www.propertyfinder.ae/en/buy/villa-for...</td>\n",
       "    </tr>\n",
       "  </tbody>\n",
       "</table>\n",
       "</div>"
      ],
      "text/plain": [
       "  location  bedrooms                                         title  \\\n",
       "0    Dubai         2  Springs 14 | 2 Bed | Type 4M | Internal View   \n",
       "1    Dubai         2      2 Bedroom Villa with Generous Plot – VOT   \n",
       "2    Dubai         2      New | Large Plot | V.O.T. |Best District   \n",
       "\n",
       "           price                                              image  \\\n",
       "0  1,490,000 AED  https://www.propertyfinder.ae/property/dac2c9a...   \n",
       "1  1,665,000 AED  https://www.propertyfinder.ae/property/f2fc8bb...   \n",
       "2  2,500,000 AED  https://www.propertyfinder.ae/property/2d5a219...   \n",
       "\n",
       "                                                link  \n",
       "0  https://www.propertyfinder.ae/en/buy/villa-for...  \n",
       "1  https://www.propertyfinder.ae/en/buy/villa-for...  \n",
       "2  https://www.propertyfinder.ae/en/buy/villa-for...  "
      ]
     },
     "execution_count": 11,
     "metadata": {},
     "output_type": "execute_result"
    }
   ],
   "source": [
    "df"
   ]
  },
  {
   "cell_type": "code",
   "execution_count": 4,
   "metadata": {},
   "outputs": [],
   "source": [
    "def result(location,roomnum):\n",
    "    df = pd.read_csv('../data/data.csv')\n",
    "    list_=[]\n",
    "    card={}\n",
    "    link=df[df['location'] == location][df['bedrooms'] == roomnum]\n",
    "    link=link.drop(['location', 'bedrooms'], axis=1)\n",
    "    js=link.to_json(orient='index')\n",
    "    data = json.loads(js)\n",
    "    #print (data)\n",
    "    for a in data:\n",
    "        card['Jobname']=data[a]['title']\n",
    "        card['JobLink']=data[a]['link']\n",
    "        card['ImgLink']=data[a]['image']\n",
    "        card['Price']=data[a]['price']\n",
    "        card['id']=str(a)\n",
    "        list_.append(card)\n",
    "        card={}\n",
    "    return list_"
   ]
  },
  {
   "cell_type": "code",
   "execution_count": 5,
   "metadata": {},
   "outputs": [
    {
     "name": "stdout",
     "output_type": "stream",
     "text": [
      "[{'id': '1', 'JobLink': u'https://www.propertyfinder.ae/en/buy/villa-for-sale-dubai-the-springs-springs-14-6139401.html', 'Price': u'1,665,000 AED', 'ImgLink': u'https://www.propertyfinder.ae/property/f2fc8bb5c6b674deceaca40300c8b917/668/452/MODE/ca767a/6139401-81450o.jpg', 'Jobname': u'2 Bedroom Villa with Generous Plot \\u2013 VOT'}, {'id': '0', 'JobLink': u'https://www.propertyfinder.ae/en/buy/villa-for-sale-dubai-the-springs-springs-14-6130528.html', 'Price': u'1,490,000 AED', 'ImgLink': u'https://www.propertyfinder.ae/property/dac2c9a2e2715558d114cc0f66b2a5a7/668/452/MODE/2659c4/6130528-193c1o.jpg', 'Jobname': u'Springs 14 | 2 Bed | Type 4M | Internal View'}, {'id': '2', 'JobLink': u'https://www.propertyfinder.ae/en/buy/villa-for-sale-dubai-jumeirah-village-triangle-mediterranean-villas-6179483.html', 'Price': u'2,500,000 AED', 'ImgLink': u'https://www.propertyfinder.ae/property/2d5a219cde3b9805578e1892158239c6/668/452/MODE/cf1a6d/6179483-570e9o.jpg', 'Jobname': u'New | Large Plot | V.O.T. |Best District'}]\n"
     ]
    },
    {
     "name": "stderr",
     "output_type": "stream",
     "text": [
      "/home/sysg/anaconda2/lib/python2.7/site-packages/ipykernel_launcher.py:5: UserWarning: Boolean Series key will be reindexed to match DataFrame index.\n",
      "  \"\"\"\n"
     ]
    }
   ],
   "source": [
    "print(result('Dubai',2))"
   ]
  },
  {
   "cell_type": "code",
   "execution_count": 6,
   "metadata": {},
   "outputs": [
    {
     "name": "stderr",
     "output_type": "stream",
     "text": [
      "/home/sysg/anaconda2/lib/python2.7/site-packages/ipykernel_launcher.py:2: UserWarning: Boolean Series key will be reindexed to match DataFrame index.\n",
      "  \n"
     ]
    }
   ],
   "source": [
    "df = pd.read_csv('../data/data.csv')\n",
    "df=df[df['location'] == \"Dubai\"][df['bedrooms'] == 2]"
   ]
  },
  {
   "cell_type": "code",
   "execution_count": 9,
   "metadata": {},
   "outputs": [],
   "source": [
    "df=df.drop(['location', 'bedrooms'], axis=1)"
   ]
  },
  {
   "cell_type": "code",
   "execution_count": 15,
   "metadata": {},
   "outputs": [
    {
     "data": {
      "text/html": [
       "<div>\n",
       "<style scoped>\n",
       "    .dataframe tbody tr th:only-of-type {\n",
       "        vertical-align: middle;\n",
       "    }\n",
       "\n",
       "    .dataframe tbody tr th {\n",
       "        vertical-align: top;\n",
       "    }\n",
       "\n",
       "    .dataframe thead th {\n",
       "        text-align: right;\n",
       "    }\n",
       "</style>\n",
       "<table border=\"1\" class=\"dataframe\">\n",
       "  <thead>\n",
       "    <tr style=\"text-align: right;\">\n",
       "      <th></th>\n",
       "      <th>title</th>\n",
       "      <th>price</th>\n",
       "      <th>image</th>\n",
       "      <th>link</th>\n",
       "    </tr>\n",
       "  </thead>\n",
       "  <tbody>\n",
       "    <tr>\n",
       "      <th>0</th>\n",
       "      <td>Springs 14 | 2 Bed | Type 4M | Internal View</td>\n",
       "      <td>1,490,000 AED</td>\n",
       "      <td>https://www.propertyfinder.ae/property/dac2c9a...</td>\n",
       "      <td>https://www.propertyfinder.ae/en/buy/villa-for...</td>\n",
       "    </tr>\n",
       "    <tr>\n",
       "      <th>1</th>\n",
       "      <td>2 Bedroom Villa with Generous Plot – VOT</td>\n",
       "      <td>1,665,000 AED</td>\n",
       "      <td>https://www.propertyfinder.ae/property/f2fc8bb...</td>\n",
       "      <td>https://www.propertyfinder.ae/en/buy/villa-for...</td>\n",
       "    </tr>\n",
       "    <tr>\n",
       "      <th>2</th>\n",
       "      <td>New | Large Plot | V.O.T. |Best District</td>\n",
       "      <td>2,500,000 AED</td>\n",
       "      <td>https://www.propertyfinder.ae/property/2d5a219...</td>\n",
       "      <td>https://www.propertyfinder.ae/en/buy/villa-for...</td>\n",
       "    </tr>\n",
       "  </tbody>\n",
       "</table>\n",
       "</div>"
      ],
      "text/plain": [
       "                                          title          price  \\\n",
       "0  Springs 14 | 2 Bed | Type 4M | Internal View  1,490,000 AED   \n",
       "1      2 Bedroom Villa with Generous Plot – VOT  1,665,000 AED   \n",
       "2      New | Large Plot | V.O.T. |Best District  2,500,000 AED   \n",
       "\n",
       "                                               image  \\\n",
       "0  https://www.propertyfinder.ae/property/dac2c9a...   \n",
       "1  https://www.propertyfinder.ae/property/f2fc8bb...   \n",
       "2  https://www.propertyfinder.ae/property/2d5a219...   \n",
       "\n",
       "                                                link  \n",
       "0  https://www.propertyfinder.ae/en/buy/villa-for...  \n",
       "1  https://www.propertyfinder.ae/en/buy/villa-for...  \n",
       "2  https://www.propertyfinder.ae/en/buy/villa-for...  "
      ]
     },
     "execution_count": 15,
     "metadata": {},
     "output_type": "execute_result"
    }
   ],
   "source": [
    "df"
   ]
  },
  {
   "cell_type": "code",
   "execution_count": 21,
   "metadata": {},
   "outputs": [],
   "source": [
    "card={}\n",
    "list_=[]\n",
    "\n"
   ]
  },
  {
   "cell_type": "code",
   "execution_count": 22,
   "metadata": {},
   "outputs": [
    {
     "data": {
      "text/plain": [
       "3"
      ]
     },
     "execution_count": 22,
     "metadata": {},
     "output_type": "execute_result"
    }
   ],
   "source": [
    "len(image)"
   ]
  },
  {
   "cell_type": "code",
   "execution_count": 25,
   "metadata": {},
   "outputs": [],
   "source": [
    "def result(location,roomnum):\n",
    "    df = pd.read_csv('../data/data.csv')\n",
    "    df=df[df['location'] == location][df['bedrooms'] == roomnum]\n",
    "    df=df.drop(['location', 'bedrooms'], axis=1)\n",
    "    list_=[]\n",
    "    card={}\n",
    "    image=['https://images.pexels.com/photos/298842/pexels-photo-298842.jpeg?cs=srgb&dl=ashtray-book-condo-298842.jpg&fm=jpg',\n",
    "       'https://images.pexels.com/photos/279719/pexels-photo-279719.jpeg?cs=srgb&dl=apartment-clean-condominium-279719.jpg&fm=jpg',\n",
    "       'https://images.pexels.com/photos/259588/pexels-photo-259588.jpeg?cs=srgb&dl=architecture-clouds-daylight-259588.jpg&fm=jpg']\n",
    "    \n",
    "    for i in range(len(df)):\n",
    "        card['Jobname']=df['title'][i]\n",
    "        card['JobLink']=df['link'][i]\n",
    "        card['ImgLink']=image[i]\n",
    "        card['Price']=df['price'][i]\n",
    "        card['id']=str(i)\n",
    "        list_.append(card)\n",
    "        card={}\n",
    "    return list_"
   ]
  },
  {
   "cell_type": "code",
   "execution_count": 26,
   "metadata": {},
   "outputs": [
    {
     "name": "stdout",
     "output_type": "stream",
     "text": [
      "[{'id': '0', 'JobLink': 'https://www.propertyfinder.ae/en/buy/villa-for-sale-dubai-the-springs-springs-14-6130528.html', 'Price': '1,490,000 AED', 'ImgLink': 'https://images.pexels.com/photos/298842/pexels-photo-298842.jpeg?cs=srgb&dl=ashtray-book-condo-298842.jpg&fm=jpg', 'Jobname': 'Springs 14 | 2 Bed | Type 4M | Internal View'}, {'id': '1', 'JobLink': 'https://www.propertyfinder.ae/en/buy/villa-for-sale-dubai-the-springs-springs-14-6139401.html', 'Price': '1,665,000 AED', 'ImgLink': 'https://images.pexels.com/photos/279719/pexels-photo-279719.jpeg?cs=srgb&dl=apartment-clean-condominium-279719.jpg&fm=jpg', 'Jobname': '2 Bedroom Villa with Generous Plot \\xe2\\x80\\x93 VOT'}, {'id': '2', 'JobLink': 'https://www.propertyfinder.ae/en/buy/villa-for-sale-dubai-jumeirah-village-triangle-mediterranean-villas-6179483.html', 'Price': '2,500,000 AED', 'ImgLink': 'https://images.pexels.com/photos/259588/pexels-photo-259588.jpeg?cs=srgb&dl=architecture-clouds-daylight-259588.jpg&fm=jpg', 'Jobname': 'New | Large Plot | V.O.T. |Best District'}]\n"
     ]
    },
    {
     "name": "stderr",
     "output_type": "stream",
     "text": [
      "/home/sysg/anaconda2/lib/python2.7/site-packages/ipykernel_launcher.py:3: UserWarning: Boolean Series key will be reindexed to match DataFrame index.\n",
      "  This is separate from the ipykernel package so we can avoid doing imports until\n"
     ]
    }
   ],
   "source": [
    "print(result('Dubai',2))"
   ]
  },
  {
   "cell_type": "code",
   "execution_count": null,
   "metadata": {},
   "outputs": [],
   "source": []
  }
 ],
 "metadata": {
  "kernelspec": {
   "display_name": "Python 2",
   "language": "python",
   "name": "python2"
  },
  "language_info": {
   "codemirror_mode": {
    "name": "ipython",
    "version": 2
   },
   "file_extension": ".py",
   "mimetype": "text/x-python",
   "name": "python",
   "nbconvert_exporter": "python",
   "pygments_lexer": "ipython2",
   "version": "2.7.14"
  }
 },
 "nbformat": 4,
 "nbformat_minor": 2
}
